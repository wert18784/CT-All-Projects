{
 "cells": [
  {
   "cell_type": "code",
   "execution_count": null,
   "metadata": {
    "executionInfo": {
     "elapsed": 128,
     "status": "ok",
     "timestamp": 1629429004952,
     "user": {
      "displayName": "wopodamphe",
      "photoUrl": "https://lh3.googleusercontent.com/a-/AOh14GhmWX_hHDrRiMqSkG3uw2XrGJEdNQQld0M4ZnuqGQ=s64",
      "userId": "02320459543568134977"
     },
     "user_tz": 240
    },
    "id": "-gzIEaJtxuCP"
   },
   "outputs": [],
   "source": []
  },
  {
   "cell_type": "code",
   "execution_count": 1,
   "metadata": {
    "executionInfo": {
     "elapsed": 1762,
     "status": "ok",
     "timestamp": 1629429006915,
     "user": {
      "displayName": "wopodamphe",
      "photoUrl": "https://lh3.googleusercontent.com/a-/AOh14GhmWX_hHDrRiMqSkG3uw2XrGJEdNQQld0M4ZnuqGQ=s64",
      "userId": "02320459543568134977"
     },
     "user_tz": 240
    },
    "id": "pHm51X2DRxIA"
   },
   "outputs": [],
   "source": [
    "import tensorflow as tf\n",
    "from tensorflow.keras import datasets, layers, models, optimizers\n",
    "\n",
    "import numpy as np\n",
    "import matplotlib.pyplot as plt\n",
    "import os\n",
    "import cv2\n",
    "import pickle\n",
    "\n",
    "from sklearn.model_selection import train_test_split\n"
   ]
  },
  {
   "cell_type": "code",
   "execution_count": 2,
   "metadata": {
    "executionInfo": {
     "elapsed": 42695,
     "status": "ok",
     "timestamp": 1629429049608,
     "user": {
      "displayName": "wopodamphe",
      "photoUrl": "https://lh3.googleusercontent.com/a-/AOh14GhmWX_hHDrRiMqSkG3uw2XrGJEdNQQld0M4ZnuqGQ=s64",
      "userId": "02320459543568134977"
     },
     "user_tz": 240
    },
    "id": "GHMq4xmdUgki"
   },
   "outputs": [],
   "source": [
    "\n",
    "pickle_in = open(\"X.pickle\",\"rb\")\n",
    "X = pickle.load(pickle_in)\n",
    "\n",
    "\n",
    "pickle_in = open(\"y.pickle\",\"rb\")\n",
    "y = pickle.load(pickle_in)\n",
    "\n",
    "\n",
    "# pickle_in = open(\"/content/drive/MyDrive/Pickle Files for Deep learning/X.pickle\",\"rb\")\n",
    "# X = pickle.load(pickle_in)\n",
    "\n",
    "\n",
    "# pickle_in = open(\"/content/drive/MyDrive/Pickle Files for Deep learning/y.pickle\",\"rb\")\n",
    "# y = pickle.load(pickle_in)\n"
   ]
  },
  {
   "cell_type": "code",
   "execution_count": 3,
   "metadata": {
    "executionInfo": {
     "elapsed": 1762,
     "status": "ok",
     "timestamp": 1629429051363,
     "user": {
      "displayName": "wopodamphe",
      "photoUrl": "https://lh3.googleusercontent.com/a-/AOh14GhmWX_hHDrRiMqSkG3uw2XrGJEdNQQld0M4ZnuqGQ=s64",
      "userId": "02320459543568134977"
     },
     "user_tz": 240
    },
    "id": "kMCMf-wpepWX"
   },
   "outputs": [],
   "source": [
    "X_train, X_test, y_train, y_test = train_test_split(np.array(X), y, test_size=0.1, random_state=None)"
   ]
  },
  {
   "cell_type": "code",
   "execution_count": 10,
   "metadata": {
    "executionInfo": {
     "elapsed": 1121,
     "status": "ok",
     "timestamp": 1629429052482,
     "user": {
      "displayName": "wopodamphe",
      "photoUrl": "https://lh3.googleusercontent.com/a-/AOh14GhmWX_hHDrRiMqSkG3uw2XrGJEdNQQld0M4ZnuqGQ=s64",
      "userId": "02320459543568134977"
     },
     "user_tz": 240
    },
    "id": "wiSCfKR4rF6k"
   },
   "outputs": [],
   "source": [
    "model = models.Sequential()\n",
    "\n",
    "model.add(layers.Conv2D(32, (3, 3), activation='relu', input_shape=(30, 30, 3)))\n",
    "model.add(layers.MaxPooling2D((2, 2)))\n",
    "\n",
    "model.add(layers.Conv2D(64, (3, 3), activation='relu', padding='valid'))\n",
    "model.add(layers.MaxPooling2D((2, 2)))\n",
    "\n",
    "\n",
    "# model.add(layers.Conv2D(64, (3, 3), activation='relu', padding='valid'))\n",
    "# model.add(layers.MaxPooling2D((2, 2)))\n",
    "\n",
    "model.add(layers.Dropout(.5))\n",
    "model.add(layers.Conv2D(64, (3, 3), activation='relu', padding='valid'))\n",
    "\n"
   ]
  },
  {
   "cell_type": "code",
   "execution_count": 11,
   "metadata": {
    "colab": {
     "base_uri": "https://localhost:8080/"
    },
    "executionInfo": {
     "elapsed": 5,
     "status": "ok",
     "timestamp": 1629429052482,
     "user": {
      "displayName": "wopodamphe",
      "photoUrl": "https://lh3.googleusercontent.com/a-/AOh14GhmWX_hHDrRiMqSkG3uw2XrGJEdNQQld0M4ZnuqGQ=s64",
      "userId": "02320459543568134977"
     },
     "user_tz": 240
    },
    "id": "8WRimtctvHqL",
    "outputId": "1f13325c-fe5f-473d-9479-3d56e082828c"
   },
   "outputs": [
    {
     "name": "stdout",
     "output_type": "stream",
     "text": [
      "Model: \"sequential_5\"\n",
      "_________________________________________________________________\n",
      " Layer (type)                Output Shape              Param #   \n",
      "=================================================================\n",
      " conv2d_20 (Conv2D)          (None, 28, 28, 32)        896       \n",
      "                                                                 \n",
      " max_pooling2d_15 (MaxPoolin  (None, 14, 14, 32)       0         \n",
      " g2D)                                                            \n",
      "                                                                 \n",
      " conv2d_21 (Conv2D)          (None, 12, 12, 64)        18496     \n",
      "                                                                 \n",
      " max_pooling2d_16 (MaxPoolin  (None, 6, 6, 64)         0         \n",
      " g2D)                                                            \n",
      "                                                                 \n",
      " dropout_5 (Dropout)         (None, 6, 6, 64)          0         \n",
      "                                                                 \n",
      " conv2d_22 (Conv2D)          (None, 4, 4, 64)          36928     \n",
      "                                                                 \n",
      "=================================================================\n",
      "Total params: 56,320\n",
      "Trainable params: 56,320\n",
      "Non-trainable params: 0\n",
      "_________________________________________________________________\n"
     ]
    }
   ],
   "source": [
    "model.summary()"
   ]
  },
  {
   "cell_type": "code",
   "execution_count": 12,
   "metadata": {
    "executionInfo": {
     "elapsed": 5,
     "status": "ok",
     "timestamp": 1629429052484,
     "user": {
      "displayName": "wopodamphe",
      "photoUrl": "https://lh3.googleusercontent.com/a-/AOh14GhmWX_hHDrRiMqSkG3uw2XrGJEdNQQld0M4ZnuqGQ=s64",
      "userId": "02320459543568134977"
     },
     "user_tz": 240
    },
    "id": "gz2Un9oovJNk"
   },
   "outputs": [],
   "source": [
    "model.add(layers.Flatten())\n",
    "model.add(layers.Dense(64, activation='relu'))\n",
    "model.add(layers.Dense(10)) #20 for the 20 bird species"
   ]
  },
  {
   "cell_type": "code",
   "execution_count": 13,
   "metadata": {
    "colab": {
     "base_uri": "https://localhost:8080/"
    },
    "executionInfo": {
     "elapsed": 5,
     "status": "ok",
     "timestamp": 1629429052484,
     "user": {
      "displayName": "wopodamphe",
      "photoUrl": "https://lh3.googleusercontent.com/a-/AOh14GhmWX_hHDrRiMqSkG3uw2XrGJEdNQQld0M4ZnuqGQ=s64",
      "userId": "02320459543568134977"
     },
     "user_tz": 240
    },
    "id": "svY8dWArvKuT",
    "outputId": "a0d0b0ab-a4ee-4058-e02b-6ea866064007"
   },
   "outputs": [
    {
     "name": "stdout",
     "output_type": "stream",
     "text": [
      "Model: \"sequential_5\"\n",
      "_________________________________________________________________\n",
      " Layer (type)                Output Shape              Param #   \n",
      "=================================================================\n",
      " conv2d_20 (Conv2D)          (None, 28, 28, 32)        896       \n",
      "                                                                 \n",
      " max_pooling2d_15 (MaxPoolin  (None, 14, 14, 32)       0         \n",
      " g2D)                                                            \n",
      "                                                                 \n",
      " conv2d_21 (Conv2D)          (None, 12, 12, 64)        18496     \n",
      "                                                                 \n",
      " max_pooling2d_16 (MaxPoolin  (None, 6, 6, 64)         0         \n",
      " g2D)                                                            \n",
      "                                                                 \n",
      " dropout_5 (Dropout)         (None, 6, 6, 64)          0         \n",
      "                                                                 \n",
      " conv2d_22 (Conv2D)          (None, 4, 4, 64)          36928     \n",
      "                                                                 \n",
      " flatten (Flatten)           (None, 1024)              0         \n",
      "                                                                 \n",
      " dense (Dense)               (None, 64)                65600     \n",
      "                                                                 \n",
      " dense_1 (Dense)             (None, 10)                650       \n",
      "                                                                 \n",
      "=================================================================\n",
      "Total params: 122,570\n",
      "Trainable params: 122,570\n",
      "Non-trainable params: 0\n",
      "_________________________________________________________________\n"
     ]
    }
   ],
   "source": [
    "model.summary()"
   ]
  },
  {
   "cell_type": "code",
   "execution_count": 14,
   "metadata": {
    "colab": {
     "base_uri": "https://localhost:8080/"
    },
    "executionInfo": {
     "elapsed": 1943599,
     "status": "ok",
     "timestamp": 1629430996209,
     "user": {
      "displayName": "wopodamphe",
      "photoUrl": "https://lh3.googleusercontent.com/a-/AOh14GhmWX_hHDrRiMqSkG3uw2XrGJEdNQQld0M4ZnuqGQ=s64",
      "userId": "02320459543568134977"
     },
     "user_tz": 240
    },
    "id": "91XHp-z8vMti",
    "outputId": "b9fa5162-4c75-4a07-a7cb-865e694a5a45"
   },
   "outputs": [
    {
     "name": "stdout",
     "output_type": "stream",
     "text": [
      "Epoch 1/50\n",
      "439/439 [==============================] - 4s 8ms/step - loss: 1.6815 - accuracy: 0.5143 - val_loss: 0.4597 - val_accuracy: 0.8750\n",
      "Epoch 2/50\n",
      "439/439 [==============================] - 4s 8ms/step - loss: 0.4973 - accuracy: 0.8395 - val_loss: 0.2180 - val_accuracy: 0.9404\n",
      "Epoch 3/50\n",
      "439/439 [==============================] - 4s 8ms/step - loss: 0.2718 - accuracy: 0.9156 - val_loss: 0.1170 - val_accuracy: 0.9667\n",
      "Epoch 4/50\n",
      "439/439 [==============================] - 4s 8ms/step - loss: 0.2090 - accuracy: 0.9360 - val_loss: 0.0806 - val_accuracy: 0.9769\n",
      "Epoch 5/50\n",
      "439/439 [==============================] - 4s 8ms/step - loss: 0.1570 - accuracy: 0.9526 - val_loss: 0.0846 - val_accuracy: 0.9686\n",
      "Epoch 6/50\n",
      "439/439 [==============================] - 4s 8ms/step - loss: 0.1426 - accuracy: 0.9558 - val_loss: 0.0395 - val_accuracy: 0.9897\n",
      "Epoch 7/50\n",
      "439/439 [==============================] - 4s 8ms/step - loss: 0.1141 - accuracy: 0.9655 - val_loss: 0.0490 - val_accuracy: 0.9846\n",
      "Epoch 8/50\n",
      "439/439 [==============================] - 4s 8ms/step - loss: 0.1276 - accuracy: 0.9647 - val_loss: 0.0431 - val_accuracy: 0.9859\n",
      "Epoch 9/50\n",
      "439/439 [==============================] - 4s 8ms/step - loss: 0.0853 - accuracy: 0.9746 - val_loss: 0.0727 - val_accuracy: 0.9795\n",
      "Epoch 10/50\n",
      "439/439 [==============================] - 4s 8ms/step - loss: 0.1054 - accuracy: 0.9702 - val_loss: 0.0218 - val_accuracy: 0.9949\n",
      "Epoch 11/50\n",
      "439/439 [==============================] - 4s 8ms/step - loss: 0.0990 - accuracy: 0.9718 - val_loss: 0.0493 - val_accuracy: 0.9865\n",
      "Epoch 12/50\n",
      "439/439 [==============================] - 4s 8ms/step - loss: 0.0907 - accuracy: 0.9722 - val_loss: 0.0597 - val_accuracy: 0.9795\n",
      "Epoch 13/50\n",
      "439/439 [==============================] - 4s 8ms/step - loss: 0.0877 - accuracy: 0.9746 - val_loss: 0.0426 - val_accuracy: 0.9859\n",
      "Epoch 14/50\n",
      "439/439 [==============================] - 4s 8ms/step - loss: 0.0901 - accuracy: 0.9758 - val_loss: 0.0437 - val_accuracy: 0.9859\n",
      "Epoch 15/50\n",
      "439/439 [==============================] - 4s 9ms/step - loss: 0.0992 - accuracy: 0.9733 - val_loss: 0.0274 - val_accuracy: 0.9942\n",
      "Epoch 16/50\n",
      "439/439 [==============================] - 4s 8ms/step - loss: 0.0835 - accuracy: 0.9778 - val_loss: 0.0228 - val_accuracy: 0.9955\n",
      "Epoch 17/50\n",
      "439/439 [==============================] - 4s 8ms/step - loss: 0.0696 - accuracy: 0.9797 - val_loss: 0.0254 - val_accuracy: 0.9936\n",
      "Epoch 18/50\n",
      "439/439 [==============================] - 4s 8ms/step - loss: 0.0841 - accuracy: 0.9768 - val_loss: 0.0183 - val_accuracy: 0.9942\n",
      "Epoch 19/50\n",
      "439/439 [==============================] - 4s 8ms/step - loss: 0.0701 - accuracy: 0.9802 - val_loss: 0.0280 - val_accuracy: 0.9936\n",
      "Epoch 20/50\n",
      "439/439 [==============================] - 4s 8ms/step - loss: 0.0622 - accuracy: 0.9817 - val_loss: 0.0225 - val_accuracy: 0.9936\n",
      "Epoch 21/50\n",
      "439/439 [==============================] - 4s 8ms/step - loss: 0.0704 - accuracy: 0.9805 - val_loss: 0.0154 - val_accuracy: 0.9955\n",
      "Epoch 22/50\n",
      "439/439 [==============================] - 4s 8ms/step - loss: 0.0822 - accuracy: 0.9780 - val_loss: 0.0290 - val_accuracy: 0.9923\n",
      "Epoch 23/50\n",
      "439/439 [==============================] - 4s 8ms/step - loss: 0.0655 - accuracy: 0.9833 - val_loss: 0.0277 - val_accuracy: 0.9923\n",
      "Epoch 24/50\n",
      "439/439 [==============================] - 4s 8ms/step - loss: 0.0450 - accuracy: 0.9868 - val_loss: 0.0190 - val_accuracy: 0.9949\n",
      "Epoch 25/50\n",
      "439/439 [==============================] - 4s 8ms/step - loss: 0.0943 - accuracy: 0.9775 - val_loss: 0.0197 - val_accuracy: 0.9949\n",
      "Epoch 26/50\n",
      "439/439 [==============================] - 4s 8ms/step - loss: 0.0483 - accuracy: 0.9865 - val_loss: 0.0149 - val_accuracy: 0.9955\n",
      "Epoch 27/50\n",
      "439/439 [==============================] - 4s 8ms/step - loss: 0.0720 - accuracy: 0.9823 - val_loss: 0.0136 - val_accuracy: 0.9962\n",
      "Epoch 28/50\n",
      "439/439 [==============================] - 4s 8ms/step - loss: 0.0524 - accuracy: 0.9846 - val_loss: 0.0244 - val_accuracy: 0.9923\n",
      "Epoch 29/50\n",
      "439/439 [==============================] - 4s 8ms/step - loss: 0.0469 - accuracy: 0.9864 - val_loss: 0.0156 - val_accuracy: 0.9962\n",
      "Epoch 30/50\n",
      "439/439 [==============================] - 4s 8ms/step - loss: 0.0602 - accuracy: 0.9849 - val_loss: 0.0367 - val_accuracy: 0.9885\n",
      "Epoch 31/50\n",
      "439/439 [==============================] - 4s 8ms/step - loss: 0.0491 - accuracy: 0.9876 - val_loss: 0.0137 - val_accuracy: 0.9955\n",
      "Epoch 32/50\n",
      "439/439 [==============================] - 4s 8ms/step - loss: 0.0704 - accuracy: 0.9832 - val_loss: 0.0300 - val_accuracy: 0.9910\n",
      "Epoch 33/50\n",
      "439/439 [==============================] - 4s 8ms/step - loss: 0.0602 - accuracy: 0.9848 - val_loss: 0.0329 - val_accuracy: 0.9929\n",
      "Epoch 34/50\n",
      "439/439 [==============================] - 4s 8ms/step - loss: 0.0765 - accuracy: 0.9830 - val_loss: 0.0201 - val_accuracy: 0.9942\n",
      "Epoch 35/50\n",
      "439/439 [==============================] - 4s 8ms/step - loss: 0.0681 - accuracy: 0.9843 - val_loss: 0.0214 - val_accuracy: 0.9962\n",
      "Epoch 36/50\n",
      "439/439 [==============================] - 4s 8ms/step - loss: 0.0416 - accuracy: 0.9892 - val_loss: 0.0400 - val_accuracy: 0.9872\n",
      "Epoch 37/50\n",
      "439/439 [==============================] - 4s 8ms/step - loss: 0.0561 - accuracy: 0.9858 - val_loss: 0.0526 - val_accuracy: 0.9846\n",
      "Epoch 38/50\n",
      "439/439 [==============================] - 4s 8ms/step - loss: 0.0801 - accuracy: 0.9811 - val_loss: 0.0273 - val_accuracy: 0.9897\n",
      "Epoch 39/50\n",
      "439/439 [==============================] - 4s 8ms/step - loss: 0.0412 - accuracy: 0.9874 - val_loss: 0.0218 - val_accuracy: 0.9949\n",
      "Epoch 40/50\n",
      "439/439 [==============================] - 4s 8ms/step - loss: 0.0638 - accuracy: 0.9826 - val_loss: 0.0325 - val_accuracy: 0.9936\n",
      "Epoch 41/50\n",
      "439/439 [==============================] - 4s 8ms/step - loss: 0.0580 - accuracy: 0.9861 - val_loss: 0.0214 - val_accuracy: 0.9949\n",
      "Epoch 42/50\n",
      "439/439 [==============================] - 4s 8ms/step - loss: 0.0499 - accuracy: 0.9886 - val_loss: 0.0134 - val_accuracy: 0.9968\n",
      "Epoch 43/50\n",
      "439/439 [==============================] - 4s 8ms/step - loss: 0.0563 - accuracy: 0.9877 - val_loss: 0.0157 - val_accuracy: 0.9962\n",
      "Epoch 44/50\n",
      "439/439 [==============================] - 4s 8ms/step - loss: 0.0418 - accuracy: 0.9889 - val_loss: 0.0153 - val_accuracy: 0.9968\n",
      "Epoch 45/50\n",
      "439/439 [==============================] - 4s 8ms/step - loss: 0.0402 - accuracy: 0.9895 - val_loss: 0.0149 - val_accuracy: 0.9942\n",
      "Epoch 46/50\n",
      "439/439 [==============================] - 4s 8ms/step - loss: 0.1045 - accuracy: 0.9783 - val_loss: 0.0242 - val_accuracy: 0.9929\n",
      "Epoch 47/50\n",
      "439/439 [==============================] - 4s 8ms/step - loss: 0.0612 - accuracy: 0.9863 - val_loss: 0.0410 - val_accuracy: 0.9897\n",
      "Epoch 48/50\n",
      "439/439 [==============================] - 4s 8ms/step - loss: 0.0678 - accuracy: 0.9841 - val_loss: 0.0180 - val_accuracy: 0.9942\n",
      "Epoch 49/50\n",
      "439/439 [==============================] - 4s 8ms/step - loss: 0.0591 - accuracy: 0.9879 - val_loss: 0.0109 - val_accuracy: 0.9974\n",
      "Epoch 50/50\n",
      "439/439 [==============================] - 4s 8ms/step - loss: 0.0362 - accuracy: 0.9898 - val_loss: 0.0197 - val_accuracy: 0.9949\n"
     ]
    }
   ],
   "source": [
    "y_train = np.array(y_train)\n",
    "y_test = np.array(y_test)\n",
    "\n",
    "model.compile(optimizer=tf.keras.optimizers.Adam(learning_rate=0.001),\n",
    "              loss=tf.keras.losses.SparseCategoricalCrossentropy(from_logits=True),\n",
    "              metrics=['accuracy'])\n",
    "\n",
    "history = model.fit(X_train, y_train, epochs=50, validation_data=(X_test, y_test))"
   ]
  },
  {
   "cell_type": "code",
   "execution_count": 15,
   "metadata": {
    "colab": {
     "base_uri": "https://localhost:8080/"
    },
    "executionInfo": {
     "elapsed": 1739,
     "status": "ok",
     "timestamp": 1629432429330,
     "user": {
      "displayName": "wopodamphe",
      "photoUrl": "https://lh3.googleusercontent.com/a-/AOh14GhmWX_hHDrRiMqSkG3uw2XrGJEdNQQld0M4ZnuqGQ=s64",
      "userId": "02320459543568134977"
     },
     "user_tz": 240
    },
    "id": "jGI8rEiBvOH7",
    "outputId": "9d7fd136-b59e-4b58-d10c-d6224ec1486a"
   },
   "outputs": [
    {
     "name": "stdout",
     "output_type": "stream",
     "text": [
      "49/49 - 0s - loss: 0.0197 - accuracy: 0.9949 - 143ms/epoch - 3ms/step\n",
      "0.9948717951774597\n"
     ]
    }
   ],
   "source": [
    "test_loss, test_acc = model.evaluate(X_test, y_test, verbose=2)\n",
    "print(test_acc)"
   ]
  },
  {
   "cell_type": "code",
   "execution_count": 16,
   "metadata": {
    "colab": {
     "base_uri": "https://localhost:8080/",
     "height": 300
    },
    "executionInfo": {
     "elapsed": 1839,
     "status": "ok",
     "timestamp": 1629432432870,
     "user": {
      "displayName": "wopodamphe",
      "photoUrl": "https://lh3.googleusercontent.com/a-/AOh14GhmWX_hHDrRiMqSkG3uw2XrGJEdNQQld0M4ZnuqGQ=s64",
      "userId": "02320459543568134977"
     },
     "user_tz": 240
    },
    "id": "APOfaagXMr7y",
    "outputId": "112da482-e1e9-4248-98c1-710f61b77845"
   },
   "outputs": [
    {
     "name": "stdout",
     "output_type": "stream",
     "text": [
      "49/49 - 0s - loss: 0.0197 - accuracy: 0.9949 - 145ms/epoch - 3ms/step\n"
     ]
    },
    {
     "data": {
      "image/png": "[encoded data removed]",
      "text/plain": [
       "<Figure size 432x288 with 1 Axes>"
      ]
     },
     "metadata": {
      "needs_background": "light"
     },
     "output_type": "display_data"
    }
   ],
   "source": [
    "plt.plot(history.history['accuracy'], label='accuracy')\n",
    "plt.plot(history.history['val_accuracy'], label = 'val_accuracy')\n",
    "plt.xlabel('Epoch')\n",
    "plt.ylabel('Accuracy')\n",
    "plt.ylim([0, 1])\n",
    "plt.legend(loc='lower right')\n",
    "\n",
    "test_loss, test_acc = model.evaluate(X_test, y_test, verbose=2)"
   ]
  },
  {
   "cell_type": "code",
   "execution_count": 17,
   "metadata": {
    "colab": {
     "base_uri": "https://localhost:8080/"
    },
    "executionInfo": {
     "elapsed": 4120,
     "status": "ok",
     "timestamp": 1629433473952,
     "user": {
      "displayName": "wopodamphe",
      "photoUrl": "https://lh3.googleusercontent.com/a-/AOh14GhmWX_hHDrRiMqSkG3uw2XrGJEdNQQld0M4ZnuqGQ=s64",
      "userId": "02320459543568134977"
     },
     "user_tz": 240
    },
    "id": "7AiR_qUSraSu",
    "outputId": "4a3cc39c-1118-4d28-9feb-631edc54bfc9"
   },
   "outputs": [
    {
     "name": "stdout",
     "output_type": "stream",
     "text": [
      "INFO:tensorflow:Assets written to: saved_model/my_model\\assets\n"
     ]
    }
   ],
   "source": [
    "\n",
    "model.save('saved_model/my_model')\n",
    "\n"
   ]
  },
  {
   "cell_type": "code",
   "execution_count": null,
   "metadata": {
    "colab": {
     "base_uri": "https://localhost:8080/"
    },
    "executionInfo": {
     "elapsed": 367,
     "status": "ok",
     "timestamp": 1629433479514,
     "user": {
      "displayName": "wopodamphe",
      "photoUrl": "https://lh3.googleusercontent.com/a-/AOh14GhmWX_hHDrRiMqSkG3uw2XrGJEdNQQld0M4ZnuqGQ=s64",
      "userId": "02320459543568134977"
     },
     "user_tz": 240
    },
    "id": "2Lpuv1wKwoHn",
    "outputId": "0d1c143c-442a-4fb6-e02b-c45a94555508"
   },
   "outputs": [],
   "source": []
  }
 ],
 "metadata": {
  "accelerator": "GPU",
  "colab": {
   "authorship_tag": "ABX9TyO/kneyodpsOj3pln9SbhaC",
   "collapsed_sections": [],
   "mount_file_id": "1AMb9472cS72Iff5QZo6ugt4fEwoVZoc8",
   "name": "summer deep learning: convnet",
   "provenance": []
  },
  "interpreter": {
   "hash": "26de051ba29f2982a8de78e945f0abaf191376122a1563185a90213a26c5da77"
  },
  "kernelspec": {
   "display_name": "Python 3.10.2 64-bit",
   "language": "python",
   "name": "python3"
  },
  "language_info": {
   "codemirror_mode": {
    "name": "ipython",
    "version": 3
   },
   "file_extension": ".py",
   "mimetype": "text/x-python",
   "name": "python",
   "nbconvert_exporter": "python",
   "pygments_lexer": "ipython3",
   "version": "3.10.2"
  }
 },
 "nbformat": 4,
 "nbformat_minor": 1
}
