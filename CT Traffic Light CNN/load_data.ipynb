{
 "cells": [
  {
   "cell_type": "code",
   "execution_count": 1,
   "metadata": {},
   "outputs": [],
   "source": [
    "import tensorflow as tf\n",
    "from tensorflow.keras import datasets, layers, models\n",
    "\n",
    "import numpy as np\n",
    "import matplotlib.pyplot as plt\n",
    "import os\n",
    "import cv2\n",
    "\n",
    "from keras.preprocessing import image\n",
    "from keras.preprocessing.image import ImageDataGenerator\n",
    "\n",
    "from tqdm import tqdm\n",
    "\n"
   ]
  },
  {
   "cell_type": "code",
   "execution_count": 2,
   "metadata": {},
   "outputs": [
    {
     "name": "stdout",
     "output_type": "stream",
     "text": [
      "['Ahead_Only', 'Double_Curve', 'Keep_Right', 'Road_Work', 'Speed_Limit_120', 'Speed_Limit_30', 'Speed_Limit_70', 'Speed_Limit_80', 'Speed_Limiy_50', 'Stop']\n"
     ]
    },
    {
     "name": "stderr",
     "output_type": "stream",
     "text": [
      "100%|██████████| 10/10 [01:04<00:00,  6.48s/it]\n"
     ]
    },
    {
     "data": {
      "image/png": "[encoded data removed]",
      "text/plain": [
       "<Figure size 432x288 with 1 Axes>"
      ]
     },
     "metadata": {
      "needs_background": "light"
     },
     "output_type": "display_data"
    }
   ],
   "source": [
    "DATADIR = r\"Traffic Signs\"\n",
    "#creates list of bird species by iterating through the folder names\n",
    "CATEGORIES = [str(i) for i in os.listdir(DATADIR)]\n",
    "print(CATEGORIES)\n",
    "\n",
    "data = []\n",
    "for category in tqdm(CATEGORIES):\n",
    "    #path of each bird species folder\n",
    "    path = os.path.join(DATADIR, category)\n",
    "    #every species is assigned a class number from 0 to 19 which \n",
    "    #is what the network will to train\n",
    "    class_num = CATEGORIES.index(category)\n",
    "    for img in os.listdir(path):\n",
    "\n",
    "        if \".ppm\" not in img:\n",
    "            continue\n",
    "        #convertes all images into an array\n",
    "        img_array = cv2.imread(os.path.join(path,img))               \n",
    "        IMG_SIZE = 30\n",
    "        \n",
    "        #resizes the images from 225x225 to 75x75 for speed\n",
    "        new_array = cv2.resize(img_array, (IMG_SIZE, IMG_SIZE))\n",
    "        #changes file from BGR to RGB\n",
    "        new_array = cv2.cvtColor(new_array, cv2.COLOR_BGR2RGB)\n",
    "        #appends the class label and the array to a list objext\n",
    "        data.append([new_array, class_num])\n",
    "        \n",
    "        plt.imshow(new_array)\n",
    "\n",
    "    "
   ]
  },
  {
   "cell_type": "code",
   "execution_count": null,
   "metadata": {},
   "outputs": [],
   "source": []
  },
  {
   "cell_type": "code",
   "execution_count": 3,
   "metadata": {
    "collapsed": true
   },
   "outputs": [],
   "source": [
    "import random\n",
    "random.shuffle(data)\n"
   ]
  },
  {
   "cell_type": "code",
   "execution_count": 4,
   "metadata": {},
   "outputs": [],
   "source": [
    "#print(len(data))\n",
    "X = []\n",
    "y = []\n",
    "\n",
    "for features, label in data:\n",
    "    X.append(features)\n",
    "    y.append(label)\n",
    "    \n",
    "X = np.array(X).reshape(-1, IMG_SIZE, IMG_SIZE, 3)"
   ]
  },
  {
   "cell_type": "code",
   "execution_count": 5,
   "metadata": {},
   "outputs": [],
   "source": [
    "import pickle\n",
    "\n",
    "pickle_out = open(\"X.pickle\",\"wb\")\n",
    "pickle.dump(X, pickle_out)\n",
    "pickle_out.close()\n",
    "\n",
    "pickle_out = open(\"y.pickle\",\"wb\")\n",
    "pickle.dump(y, pickle_out)\n",
    "pickle_out.close()\n"
   ]
  }
 ],
 "metadata": {
  "interpreter": {
   "hash": "26de051ba29f2982a8de78e945f0abaf191376122a1563185a90213a26c5da77"
  },
  "kernelspec": {
   "display_name": "Python 3.10.2 64-bit",
   "language": "python",
   "name": "python3"
  },
  "language_info": {
   "codemirror_mode": {
    "name": "ipython",
    "version": 3
   },
   "file_extension": ".py",
   "mimetype": "text/x-python",
   "name": "python",
   "nbconvert_exporter": "python",
   "pygments_lexer": "ipython3",
   "version": "3.10.2"
  }
 },
 "nbformat": 4,
 "nbformat_minor": 4
}
