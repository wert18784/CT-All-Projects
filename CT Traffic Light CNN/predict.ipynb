{
 "cells": [
  {
   "cell_type": "code",
   "execution_count": 1,
   "metadata": {},
   "outputs": [],
   "source": [
    "import tensorflow as tf\n",
    "from tensorflow.keras import datasets, layers, models\n",
    "\n",
    "import numpy as np\n",
    "import matplotlib.pyplot as plt\n",
    "import os\n",
    "import cv2\n",
    "\n",
    "from keras.preprocessing import image\n",
    "from keras.preprocessing.image import ImageDataGenerator\n",
    "\n",
    "from tqdm import tqdm"
   ]
  },
  {
   "cell_type": "code",
   "execution_count": 2,
   "metadata": {
    "scrolled": true
   },
   "outputs": [],
   "source": [
    "\n",
    "model = tf.keras.models.load_model('saved_model\\my_model')"
   ]
  },
  {
   "cell_type": "code",
   "execution_count": 4,
   "metadata": {},
   "outputs": [
    {
     "data": {
      "text/plain": [
       "['Ahead_Only',\n",
       " 'Double_Curve',\n",
       " 'Keep_Right',\n",
       " 'Road_Work',\n",
       " 'Speed_Limit_120',\n",
       " 'Speed_Limit_30',\n",
       " 'Speed_Limit_70',\n",
       " 'Speed_Limit_80',\n",
       " 'Speed_Limiy_50',\n",
       " 'Stop']"
      ]
     },
     "execution_count": 4,
     "metadata": {},
     "output_type": "execute_result"
    }
   ],
   "source": [
    "DATADIR = r\"Traffic Signs\"\n",
    "CATEGORIES = [str(i) for i in os.listdir(DATADIR)]\n",
    "prediction_dict = dict(zip([i for i, j in enumerate(CATEGORIES)],CATEGORIES))\n",
    "\n",
    "CATEGORIES\n",
    "                   "
   ]
  },
  {
   "cell_type": "code",
   "execution_count": 5,
   "metadata": {},
   "outputs": [],
   "source": [
    "def decode_prediction(arr):\n",
    "    out = []\n",
    "    for i in arr:\n",
    "        new = sorted(list(i))[-3:]\n",
    "        for j in new:\n",
    "            out.append(prediction_dict[list(i).index(j)])\n",
    "    print(\"Top 3 Predictions\")\n",
    "    return out[::-1]\n",
    "        "
   ]
  },
  {
   "cell_type": "code",
   "execution_count": 14,
   "metadata": {
    "scrolled": true
   },
   "outputs": [
    {
     "name": "stdout",
     "output_type": "stream",
     "text": [
      "Downloading data from https://external-content.duckduckgo.com/iu/?u=https%3A%2F%2Ftse2.mm.bing.net%2Fth%3Fid%3DOIP.UNJqBzm7YD8UOh05-OObuAHaHa%26pid%3DApi&f=1\n",
      "  16384/Unknown - 0s 1us/step"
     ]
    },
    {
     "data": {
      "image/png": "[encoded data removed]",
      "text/plain": [
       "<Figure size 432x288 with 1 Axes>"
      ]
     },
     "metadata": {
      "needs_background": "light"
     },
     "output_type": "display_data"
    }
   ],
   "source": [
    "URL = 'https://external-content.duckduckgo.com/iu/?u=https%3A%2F%2Ftse2.mm.bing.net%2Fth%3Fid%3DOIP.UNJqBzm7YD8UOh05-OObuAHaHa%26pid%3DApi&f=1'\n",
    "img_path = tf.keras.utils.get_file('bird.jpg', URL)\n",
    "\n",
    "\n",
    "img_array = cv2.imread(img_path)\n",
    "IMG_SIZE = 30\n",
    "img_array = cv2.resize(img_array, (IMG_SIZE, IMG_SIZE))\n",
    "img_array = cv2.cvtColor(img_array, cv2.COLOR_BGR2RGB)\n",
    "img_array = np.array(img_array)\n",
    "\n",
    "plt.imshow(img_array)\n",
    "\n",
    "\n",
    "x = img_array.reshape(-1, IMG_SIZE, IMG_SIZE, 3)\n",
    "\n",
    "os.remove(img_path)\n"
   ]
  },
  {
   "cell_type": "code",
   "execution_count": 15,
   "metadata": {},
   "outputs": [
    {
     "name": "stdout",
     "output_type": "stream",
     "text": [
      "Top 3 Predictions\n"
     ]
    },
    {
     "data": {
      "text/plain": [
       "['Speed_Limit_120', 'Speed_Limit_30', 'Speed_Limit_80']"
      ]
     },
     "execution_count": 15,
     "metadata": {},
     "output_type": "execute_result"
    }
   ],
   "source": [
    "\n",
    "prediction = model.predict(x)\n",
    "decode_prediction(prediction)"
   ]
  },
  {
   "cell_type": "code",
   "execution_count": 11,
   "metadata": {},
   "outputs": [
    {
     "name": "stdout",
     "output_type": "stream",
     "text": [
      "INFO:tensorflow:Assets written to: saved_model/my_model.hd5\\assets\n"
     ]
    }
   ],
   "source": []
  }
 ],
 "metadata": {
  "interpreter": {
   "hash": "26de051ba29f2982a8de78e945f0abaf191376122a1563185a90213a26c5da77"
  },
  "kernelspec": {
   "display_name": "Python 3.10.2 64-bit",
   "language": "python",
   "name": "python3"
  },
  "language_info": {
   "codemirror_mode": {
    "name": "ipython",
    "version": 3
   },
   "file_extension": ".py",
   "mimetype": "text/x-python",
   "name": "python",
   "nbconvert_exporter": "python",
   "pygments_lexer": "ipython3",
   "version": "3.10.2"
  }
 },
 "nbformat": 4,
 "nbformat_minor": 4
}
