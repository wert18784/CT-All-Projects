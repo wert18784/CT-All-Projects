{
 "cells": [
  {
   "cell_type": "code",
   "execution_count": 7,
   "metadata": {},
   "outputs": [],
   "source": [
    "import tensorflow as tf\n",
    "from tensorflow.keras import datasets, layers, models\n",
    "\n",
    "import numpy as np\n",
    "import matplotlib.pyplot as plt\n",
    "import os\n",
    "import cv2\n",
    "\n",
    "from keras.preprocessing import image\n",
    "from keras.preprocessing.image import ImageDataGenerator\n",
    "\n",
    "from tqdm import tqdm\n",
    "\n"
   ]
  },
  {
   "cell_type": "code",
   "execution_count": 8,
   "metadata": {},
   "outputs": [
    {
     "name": "stderr",
     "output_type": "stream",
     "text": [
      "100%|██████████████████████████████████████████████████████████████████████████████████| 20/20 [01:28<00:00,  4.45s/it]\n"
     ]
    }
   ],
   "source": [
    "DATADIR = r\"F:\\Projects\\learn\\deep learning\\convnet\\Aug_20\"\n",
    "#creates list of bird species by iterating through the folder names\n",
    "CATEGORIES = [str(i) for i in os.listdir(DATADIR)]\n",
    "\n",
    "data = []\n",
    "for category in tqdm(CATEGORIES):\n",
    "    #path of each bird species folder\n",
    "    path = os.path.join(DATADIR, category)\n",
    "    #every species is assigned a class number from 0 to 19 which \n",
    "    #is what the network will to train\n",
    "    class_num = CATEGORIES.index(category)\n",
    "    for img in os.listdir(path):\n",
    "        #convertes all images into an array\n",
    "        img_array = cv2.imread(os.path.join(path,img))\n",
    "        IMG_SIZE = 75\n",
    "        #resizes the images from 225x225 to 75x75 for speed\n",
    "        new_array = cv2.resize(img_array, (IMG_SIZE, IMG_SIZE))\n",
    "        #changes file from BGR to RGB\n",
    "        new_array = cv2.cvtColor(new_array, cv2.COLOR_BGR2RGB)\n",
    "        #appends the class label and the array to a list objext\n",
    "        data.append([new_array, class_num])\n",
    "        \n",
    "        #plt.imshow(new_array)\n",
    "\n",
    "    "
   ]
  },
  {
   "cell_type": "code",
   "execution_count": null,
   "metadata": {},
   "outputs": [],
   "source": []
  },
  {
   "cell_type": "code",
   "execution_count": 9,
   "metadata": {
    "collapsed": true
   },
   "outputs": [
    {
     "name": "stdout",
     "output_type": "stream",
     "text": [
      "13\n",
      "16\n",
      "6\n",
      "19\n",
      "9\n",
      "6\n",
      "9\n",
      "1\n",
      "9\n",
      "16\n"
     ]
    }
   ],
   "source": [
    "import random\n",
    "random.shuffle(data)\n"
   ]
  },
  {
   "cell_type": "code",
   "execution_count": 10,
   "metadata": {},
   "outputs": [
    {
     "name": "stdout",
     "output_type": "stream",
     "text": [
      "33387\n"
     ]
    }
   ],
   "source": [
    "#print(len(data))\n",
    "X = []\n",
    "y = []\n",
    "\n",
    "for features, label in data:\n",
    "    X.append(features)\n",
    "    y.append(label)\n",
    "    \n",
    "X = np.array(X).reshape(-1, IMG_SIZE, IMG_SIZE, 3)"
   ]
  },
  {
   "cell_type": "code",
   "execution_count": 11,
   "metadata": {},
   "outputs": [],
   "source": [
    "import pickle\n",
    "\n",
    "pickle_out = open(\"F:\\Projects\\learn\\deep learning\\convnet\\X.pickle\",\"wb\")\n",
    "pickle.dump(X, pickle_out)\n",
    "pickle_out.close()\n",
    "\n",
    "pickle_out = open(\"F:\\Projects\\learn\\deep learning\\convnet\\y.pickle\",\"wb\")\n",
    "pickle.dump(y, pickle_out)\n",
    "pickle_out.close()\n"
   ]
  }
 ],
 "metadata": {
  "kernelspec": {
   "display_name": "Python 3",
   "language": "python",
   "name": "python3"
  },
  "language_info": {
   "codemirror_mode": {
    "name": "ipython",
    "version": 3
   },
   "file_extension": ".py",
   "mimetype": "text/x-python",
   "name": "python",
   "nbconvert_exporter": "python",
   "pygments_lexer": "ipython3",
   "version": "3.8.5"
  }
 },
 "nbformat": 4,
 "nbformat_minor": 4
}
