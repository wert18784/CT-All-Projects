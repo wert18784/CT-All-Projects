{
 "cells": [
  {
   "cell_type": "code",
   "execution_count": 1,
   "metadata": {},
   "outputs": [],
   "source": [
    "import tensorflow as tf\n",
    "from tensorflow.keras import datasets, layers, models\n",
    "\n",
    "import numpy as np\n",
    "import matplotlib.pyplot as plt\n",
    "import os\n",
    "import cv2\n",
    "\n",
    "from keras.preprocessing import image\n",
    "from keras.preprocessing.image import ImageDataGenerator\n",
    "\n"
   ]
  },
  {
   "cell_type": "code",
   "execution_count": 2,
   "metadata": {},
   "outputs": [],
   "source": [
    "os.getcwd()\n",
    "os.chdir(r\"F:\\Projects\\learn\\deep learning\\convnet\\dataset\\test\")\n"
   ]
  },
  {
   "cell_type": "code",
   "execution_count": 3,
   "metadata": {},
   "outputs": [],
   "source": [
    "datagen = ImageDataGenerator(\n",
    "rotation_range=40,\n",
    "width_shift_range=0.2,\n",
    "height_shift_range=0.2,\n",
    "shear_range=0.2,\n",
    "zoom_range=0.2,\n",
    "horizontal_flip=True,\n",
    "fill_mode='nearest')\n"
   ]
  },
  {
   "cell_type": "code",
   "execution_count": null,
   "metadata": {},
   "outputs": [],
   "source": []
  },
  {
   "cell_type": "code",
   "execution_count": 4,
   "metadata": {},
   "outputs": [],
   "source": [
    "DATADIR = r\"F:\\Projects\\learn\\deep learning\\convnet\\dataset\\train\"\n",
    "CATEGORIES = [str(i) for i in os.listdir()]\n",
    "        \n",
    "## CODE FOR DATA AUGMENTATION::\n",
    "for category in CATEGORIES:\n",
    "    path = os.path.join(DATADIR, category)\n",
    "    class_num = CATEGORIES.index(category)\n",
    "    for img in os.listdir(path):\n",
    "        #os.chdir(path)\n",
    "        img_array = cv2.imread(os.path.join(path,img))\n",
    "        IMG_SIZE = 75\n",
    "        img_array = cv2.resize(img_array, (IMG_SIZE, IMG_SIZE))\n",
    "        img_array = cv2.cvtColor(img_array, cv2.COLOR_BGR2RGB)\n",
    "        plt.imshow(img_array)\n",
    "        img_array = img_array.reshape((1,) + img_array.shape)\n",
    "        \n",
    "        \n",
    "        i = 0\n",
    "        for batch in datagen.flow(img_array, save_to_dir=path, save_prefix='aug', save_format='jpg'):  # this loops runs forever until we break, saving images to current directory with specified prefix\n",
    "            #print(batch)\n",
    "#             plt.figure(i)\n",
    "#             plot = plt.imshow(image.img_to_array(batch[0]).astype('uint8'))\n",
    "            \n",
    "            \n",
    "            i += 1\n",
    "            if i > 100:  \n",
    "                break\n",
    "\n",
    "        #plt.show()\n",
    "        #plt.imshow(new_array)\n",
    "        \n",
    "        \n",
    "        \n",
    "for category in CATEGORIES:\n",
    "    path = os.path.join(DATADIR, category)\n",
    "    class_num = CATEGORIES.index(category)\n",
    "    for img in os.listdir(path):\n",
    "        img_array = cv2.imread(os.path.join(path,img))\n",
    "        IMG_SIZE = 75\n",
    "        \n",
    "        new_array = cv2.resize(img_array, (IMG_SIZE, IMG_SIZE))\n",
    "        #plt.imshow(new_array)\n",
    "        \n"
   ]
  },
  {
   "cell_type": "code",
   "execution_count": null,
   "metadata": {},
   "outputs": [],
   "source": [
    "training_data = []\n",
    "training_dir = r\"F:\\Projects\\learn\\deep learning\\convnet\\dataset\\train\"\n",
    "for category in CATEGORIES:\n",
    "    path = os.path.join(training_dir, category)\n",
    "    class_num = CATEGORIES.index(category)\n",
    "    for img in os.listdir(path):\n",
    "        img_array = cv2.imread(os.path.join(path,img))\n",
    "        IMG_SIZE = 75\n",
    "        new_array = cv2.resize(img_array, (IMG_SIZE, IMG_SIZE))\n",
    "        new_array = cv2.cvtColor(new_array, cv2.COLOR_BGR2RGB)\n",
    "        training_data.append([new_array, class_num])\n",
    "        \n",
    "        plt.imshow(new_array)\n",
    "\n",
    "    "
   ]
  },
  {
   "cell_type": "code",
   "execution_count": null,
   "metadata": {},
   "outputs": [],
   "source": []
  },
  {
   "cell_type": "code",
   "execution_count": null,
   "metadata": {},
   "outputs": [],
   "source": [
    "import random\n",
    "random.shuffle(training_data)\n",
    "for sample in training_data[:10]:\n",
    "    print(sample[1])"
   ]
  },
  {
   "cell_type": "code",
   "execution_count": null,
   "metadata": {},
   "outputs": [],
   "source": [
    "print(len(training_data))\n",
    "X = []\n",
    "y = []\n",
    "\n",
    "for features, label in training_data:\n",
    "    X.append(features)\n",
    "    y.append(label)\n",
    "    \n",
    "X = np.array(X).reshape(-1, IMG_SIZE, IMG_SIZE, 3)"
   ]
  },
  {
   "cell_type": "code",
   "execution_count": null,
   "metadata": {},
   "outputs": [],
   "source": [
    "\n"
   ]
  },
  {
   "cell_type": "code",
   "execution_count": null,
   "metadata": {},
   "outputs": [],
   "source": [
    "import pickle\n",
    "\n",
    "pickle_out = open(\"F:\\Projects\\learn\\deep learning\\convnet\\X.pickle\",\"wb\")\n",
    "pickle.dump(X, pickle_out)\n",
    "pickle_out.close()\n",
    "\n",
    "pickle_out = open(\"F:\\Projects\\learn\\deep learning\\convnet\\y.pickle\",\"wb\")\n",
    "pickle.dump(y, pickle_out)\n",
    "pickle_out.close()\n",
    "\n",
    "# pickle_in = open(\"y.pickle\",\"rb\")\n",
    "# y = picke.load(pickle_in)\n",
    "# x"
   ]
  },
  {
   "cell_type": "code",
   "execution_count": null,
   "metadata": {},
   "outputs": [],
   "source": [
    "testing_data = []\n",
    "testing_dir = r\"F:\\Projects\\learn\\deep learning\\convnet\\dataset\\test\"\n",
    "for category in CATEGORIES:\n",
    "    path = os.path.join(testing_dir, category)\n",
    "    class_num = CATEGORIES.index(category)\n",
    "    for img in os.listdir(path):\n",
    "        img_array = cv2.imread(os.path.join(path,img))\n",
    "        IMG_SIZE = 75\n",
    "        \n",
    "        new_array = cv2.resize(img_array, (IMG_SIZE, IMG_SIZE))\n",
    "        new_array = cv2.cvtColor(new_array, cv2.COLOR_BGR2RGB)\n",
    "        testing_data.append([new_array, class_num])\n",
    "        #plt.imshow(new_array)\n",
    "    \n",
    "        \n",
    "\n",
    "random.shuffle(testing_data)\n",
    "    \n",
    "X_test = []\n",
    "y_test = []\n",
    "\n",
    "for features, label in testing_data:\n",
    "    X_test.append(features)\n",
    "    y_test.append(label)\n",
    "    \n",
    "\n"
   ]
  },
  {
   "cell_type": "code",
   "execution_count": null,
   "metadata": {},
   "outputs": [],
   "source": [
    "pickle_out = open(\"F:\\Projects\\learn\\deep learning\\convnet\\X_test.pickle\",\"wb\")\n",
    "pickle.dump(X_test, pickle_out)\n",
    "pickle_out.close()\n",
    "\n",
    "pickle_out = open(\"F:\\Projects\\learn\\deep learning\\convnet\\y_test.pickle\",\"wb\")\n",
    "pickle.dump(y_test, pickle_out)\n",
    "pickle_out.close()"
   ]
  },
  {
   "cell_type": "markdown",
   "metadata": {},
   "source": [
    "y"
   ]
  },
  {
   "cell_type": "code",
   "execution_count": null,
   "metadata": {},
   "outputs": [],
   "source": [
    "# # creates a data generator object that transforms images\n",
    "# datagen = ImageDataGenerator(\n",
    "# rotation_range=40,\n",
    "# width_shift_range=0.2,\n",
    "# height_shift_range=0.2,\n",
    "# shear_range=0.2,\n",
    "# zoom_range=0.2,\n",
    "# horizontal_flip=True,\n",
    "# fill_mode='nearest')\n",
    "\n",
    "# # pick an image to transform\n",
    "# img = X[1]\n",
    "\n",
    "# #img = image.img_to_array(test_img)  # convert image to numpy arry\n",
    "\n",
    "# img = img.reshape((1,) + img.shape)  # reshape image\n",
    "\n",
    "# i = 0\n",
    "\n",
    "# for batch in datagen.flow(img, save_prefix='test', save_format='jpeg'):  # this loops runs forever until we break, saving images to current directory with specified prefix\n",
    "#     #print(batch)\n",
    "#     plt.figure(i)\n",
    "#     plot = plt.imshow(image.img_to_array(batch[0]).astype('uint8'))\n",
    "    \n",
    "#     i += 1\n",
    "#     if i > 4:  # show 4 images\n",
    "#         break\n",
    "\n",
    "# plt.show()"
   ]
  }
 ],
 "metadata": {
  "kernelspec": {
   "display_name": "Python 3",
   "language": "python",
   "name": "python3"
  },
  "language_info": {
   "codemirror_mode": {
    "name": "ipython",
    "version": 3
   },
   "file_extension": ".py",
   "mimetype": "text/x-python",
   "name": "python",
   "nbconvert_exporter": "python",
   "pygments_lexer": "ipython3",
   "version": "3.8.5"
  }
 },
 "nbformat": 4,
 "nbformat_minor": 4
}
