{
 "cells": [
  {
   "cell_type": "code",
   "execution_count": null,
   "metadata": {
    "executionInfo": {
     "elapsed": 128,
     "status": "ok",
     "timestamp": 1629429004952,
     "user": {
      "displayName": "wopodamphe",
      "photoUrl": "https://lh3.googleusercontent.com/a-/AOh14GhmWX_hHDrRiMqSkG3uw2XrGJEdNQQld0M4ZnuqGQ=s64",
      "userId": "02320459543568134977"
     },
     "user_tz": 240
    },
    "id": "-gzIEaJtxuCP"
   },
   "outputs": [],
   "source": []
  },
  {
   "cell_type": "code",
   "execution_count": 1,
   "metadata": {
    "executionInfo": {
     "elapsed": 1762,
     "status": "ok",
     "timestamp": 1629429006915,
     "user": {
      "displayName": "wopodamphe",
      "photoUrl": "https://lh3.googleusercontent.com/a-/AOh14GhmWX_hHDrRiMqSkG3uw2XrGJEdNQQld0M4ZnuqGQ=s64",
      "userId": "02320459543568134977"
     },
     "user_tz": 240
    },
    "id": "pHm51X2DRxIA"
   },
   "outputs": [],
   "source": [
    "import tensorflow as tf\n",
    "from tensorflow.keras import datasets, layers, models, optimizers\n",
    "\n",
    "import numpy as np\n",
    "import matplotlib.pyplot as plt\n",
    "import os\n",
    "import cv2\n",
    "import pickle\n",
    "\n",
    "from sklearn.model_selection import train_test_split\n"
   ]
  },
  {
   "cell_type": "code",
   "execution_count": 2,
   "metadata": {
    "executionInfo": {
     "elapsed": 42695,
     "status": "ok",
     "timestamp": 1629429049608,
     "user": {
      "displayName": "wopodamphe",
      "photoUrl": "https://lh3.googleusercontent.com/a-/AOh14GhmWX_hHDrRiMqSkG3uw2XrGJEdNQQld0M4ZnuqGQ=s64",
      "userId": "02320459543568134977"
     },
     "user_tz": 240
    },
    "id": "GHMq4xmdUgki"
   },
   "outputs": [],
   "source": [
    "\n",
    "pickle_in = open(\"X_large.pickle\",\"rb\")\n",
    "X = pickle.load(pickle_in)\n",
    "\n",
    "\n",
    "pickle_in = open(\"y_large.pickle\",\"rb\")\n",
    "y = pickle.load(pickle_in)\n",
    "\n",
    "\n",
    "# pickle_in = open(\"/content/drive/MyDrive/Pickle Files for Deep learning/X.pickle\",\"rb\")\n",
    "# X = pickle.load(pickle_in)\n",
    "\n",
    "\n",
    "# pickle_in = open(\"/content/drive/MyDrive/Pickle Files for Deep learning/y.pickle\",\"rb\")\n",
    "# y = pickle.load(pickle_in)\n",
    "\n"
   ]
  },
  {
   "cell_type": "code",
   "execution_count": 3,
   "metadata": {
    "executionInfo": {
     "elapsed": 1762,
     "status": "ok",
     "timestamp": 1629429051363,
     "user": {
      "displayName": "wopodamphe",
      "photoUrl": "https://lh3.googleusercontent.com/a-/AOh14GhmWX_hHDrRiMqSkG3uw2XrGJEdNQQld0M4ZnuqGQ=s64",
      "userId": "02320459543568134977"
     },
     "user_tz": 240
    },
    "id": "kMCMf-wpepWX"
   },
   "outputs": [],
   "source": [
    "X_train, X_test, y_train, y_test = train_test_split(np.array(X), y, test_size=0.1, random_state=None)"
   ]
  },
  {
   "cell_type": "code",
   "execution_count": 4,
   "metadata": {
    "executionInfo": {
     "elapsed": 1121,
     "status": "ok",
     "timestamp": 1629429052482,
     "user": {
      "displayName": "wopodamphe",
      "photoUrl": "https://lh3.googleusercontent.com/a-/AOh14GhmWX_hHDrRiMqSkG3uw2XrGJEdNQQld0M4ZnuqGQ=s64",
      "userId": "02320459543568134977"
     },
     "user_tz": 240
    },
    "id": "wiSCfKR4rF6k"
   },
   "outputs": [],
   "source": [
    "model = models.Sequential()\n",
    "\n",
    "model.add(layers.Conv2D(32, (3, 3), activation='relu', input_shape=(75, 75, 3)))\n",
    "\n",
    "model.add(layers.MaxPooling2D((2, 2)))\n",
    "\n",
    "\n",
    "model.add(layers.Conv2D(64, (3, 3), activation='relu', padding='valid'))\n",
    "\n",
    "\n",
    "\n",
    "model.add(layers.MaxPooling2D((2, 2)))\n",
    "\n",
    "\n",
    "model.add(layers.Conv2D(64, (3, 3), activation='relu', padding='valid'))\n",
    "\n",
    "model.add(layers.MaxPooling2D((2, 2)))\n",
    "model.add(layers.Dropout(.6))\n",
    "\n",
    "model.add(layers.Conv2D(64, (3, 3), activation='relu', padding='valid'))\n",
    "\n"
   ]
  },
  {
   "cell_type": "code",
   "execution_count": 5,
   "metadata": {
    "colab": {
     "base_uri": "https://localhost:8080/"
    },
    "executionInfo": {
     "elapsed": 5,
     "status": "ok",
     "timestamp": 1629429052482,
     "user": {
      "displayName": "wopodamphe",
      "photoUrl": "https://lh3.googleusercontent.com/a-/AOh14GhmWX_hHDrRiMqSkG3uw2XrGJEdNQQld0M4ZnuqGQ=s64",
      "userId": "02320459543568134977"
     },
     "user_tz": 240
    },
    "id": "8WRimtctvHqL",
    "outputId": "1f13325c-fe5f-473d-9479-3d56e082828c"
   },
   "outputs": [
    {
     "name": "stdout",
     "output_type": "stream",
     "text": [
      "Model: \"sequential\"\n",
      "_________________________________________________________________\n",
      "Layer (type)                 Output Shape              Param #   \n",
      "=================================================================\n",
      "conv2d (Conv2D)              (None, 73, 73, 32)        896       \n",
      "_________________________________________________________________\n",
      "max_pooling2d (MaxPooling2D) (None, 36, 36, 32)        0         \n",
      "_________________________________________________________________\n",
      "conv2d_1 (Conv2D)            (None, 34, 34, 64)        18496     \n",
      "_________________________________________________________________\n",
      "max_pooling2d_1 (MaxPooling2 (None, 17, 17, 64)        0         \n",
      "_________________________________________________________________\n",
      "conv2d_2 (Conv2D)            (None, 15, 15, 64)        36928     \n",
      "_________________________________________________________________\n",
      "max_pooling2d_2 (MaxPooling2 (None, 7, 7, 64)          0         \n",
      "_________________________________________________________________\n",
      "dropout (Dropout)            (None, 7, 7, 64)          0         \n",
      "_________________________________________________________________\n",
      "conv2d_3 (Conv2D)            (None, 5, 5, 64)          36928     \n",
      "=================================================================\n",
      "Total params: 93,248\n",
      "Trainable params: 93,248\n",
      "Non-trainable params: 0\n",
      "_________________________________________________________________\n"
     ]
    }
   ],
   "source": [
    "model.summary()"
   ]
  },
  {
   "cell_type": "code",
   "execution_count": 6,
   "metadata": {
    "executionInfo": {
     "elapsed": 5,
     "status": "ok",
     "timestamp": 1629429052484,
     "user": {
      "displayName": "wopodamphe",
      "photoUrl": "https://lh3.googleusercontent.com/a-/AOh14GhmWX_hHDrRiMqSkG3uw2XrGJEdNQQld0M4ZnuqGQ=s64",
      "userId": "02320459543568134977"
     },
     "user_tz": 240
    },
    "id": "gz2Un9oovJNk"
   },
   "outputs": [],
   "source": [
    "model.add(layers.Flatten())\n",
    "model.add(layers.Dense(64, activation='relu'))\n",
    "#model.add(layers.Dense(64, activation='softmax'))\n",
    "model.add(layers.Dense(20))"
   ]
  },
  {
   "cell_type": "code",
   "execution_count": 7,
   "metadata": {
    "colab": {
     "base_uri": "https://localhost:8080/"
    },
    "executionInfo": {
     "elapsed": 5,
     "status": "ok",
     "timestamp": 1629429052484,
     "user": {
      "displayName": "wopodamphe",
      "photoUrl": "https://lh3.googleusercontent.com/a-/AOh14GhmWX_hHDrRiMqSkG3uw2XrGJEdNQQld0M4ZnuqGQ=s64",
      "userId": "02320459543568134977"
     },
     "user_tz": 240
    },
    "id": "svY8dWArvKuT",
    "outputId": "a0d0b0ab-a4ee-4058-e02b-6ea866064007"
   },
   "outputs": [
    {
     "name": "stdout",
     "output_type": "stream",
     "text": [
      "Model: \"sequential\"\n",
      "_________________________________________________________________\n",
      "Layer (type)                 Output Shape              Param #   \n",
      "=================================================================\n",
      "conv2d (Conv2D)              (None, 73, 73, 32)        896       \n",
      "_________________________________________________________________\n",
      "max_pooling2d (MaxPooling2D) (None, 36, 36, 32)        0         \n",
      "_________________________________________________________________\n",
      "conv2d_1 (Conv2D)            (None, 34, 34, 64)        18496     \n",
      "_________________________________________________________________\n",
      "max_pooling2d_1 (MaxPooling2 (None, 17, 17, 64)        0         \n",
      "_________________________________________________________________\n",
      "conv2d_2 (Conv2D)            (None, 15, 15, 64)        36928     \n",
      "_________________________________________________________________\n",
      "max_pooling2d_2 (MaxPooling2 (None, 7, 7, 64)          0         \n",
      "_________________________________________________________________\n",
      "dropout (Dropout)            (None, 7, 7, 64)          0         \n",
      "_________________________________________________________________\n",
      "conv2d_3 (Conv2D)            (None, 5, 5, 64)          36928     \n",
      "_________________________________________________________________\n",
      "flatten (Flatten)            (None, 1600)              0         \n",
      "_________________________________________________________________\n",
      "dense (Dense)                (None, 64)                102464    \n",
      "_________________________________________________________________\n",
      "dense_1 (Dense)              (None, 20)                1300      \n",
      "=================================================================\n",
      "Total params: 197,012\n",
      "Trainable params: 197,012\n",
      "Non-trainable params: 0\n",
      "_________________________________________________________________\n"
     ]
    }
   ],
   "source": [
    "model.summary()"
   ]
  },
  {
   "cell_type": "code",
   "execution_count": null,
   "metadata": {
    "colab": {
     "base_uri": "https://localhost:8080/"
    },
    "executionInfo": {
     "elapsed": 1943599,
     "status": "ok",
     "timestamp": 1629430996209,
     "user": {
      "displayName": "wopodamphe",
      "photoUrl": "https://lh3.googleusercontent.com/a-/AOh14GhmWX_hHDrRiMqSkG3uw2XrGJEdNQQld0M4ZnuqGQ=s64",
      "userId": "02320459543568134977"
     },
     "user_tz": 240
    },
    "id": "91XHp-z8vMti",
    "outputId": "b9fa5162-4c75-4a07-a7cb-865e694a5a45"
   },
   "outputs": [
    {
     "name": "stdout",
     "output_type": "stream",
     "text": [
      "Epoch 1/50\n",
      "1037/4403 [======>.......................] - ETA: 2:44 - loss: 2.6507 - accuracy: 0.19"
     ]
    }
   ],
   "source": [
    "y_train = np.array(y_train)\n",
    "y_test = np.array(y_test)\n",
    "\n",
    "model.compile(optimizer=tf.keras.optimizers.Adam(learning_rate=0.001),\n",
    "              loss=tf.keras.losses.SparseCategoricalCrossentropy(from_logits=True),\n",
    "              metrics=['accuracy'])\n",
    "\n",
    "history = model.fit(X_train, y_train, epochs=50, validation_data=(X_test, y_test))"
   ]
  },
  {
   "cell_type": "code",
   "execution_count": null,
   "metadata": {
    "colab": {
     "base_uri": "https://localhost:8080/"
    },
    "executionInfo": {
     "elapsed": 1739,
     "status": "ok",
     "timestamp": 1629432429330,
     "user": {
      "displayName": "wopodamphe",
      "photoUrl": "https://lh3.googleusercontent.com/a-/AOh14GhmWX_hHDrRiMqSkG3uw2XrGJEdNQQld0M4ZnuqGQ=s64",
      "userId": "02320459543568134977"
     },
     "user_tz": 240
    },
    "id": "jGI8rEiBvOH7",
    "outputId": "9d7fd136-b59e-4b58-d10c-d6224ec1486a"
   },
   "outputs": [],
   "source": [
    "test_loss, test_acc = model.evaluate(X_test, y_test, verbose=2)\n",
    "print(test_acc)"
   ]
  },
  {
   "cell_type": "code",
   "execution_count": null,
   "metadata": {
    "colab": {
     "base_uri": "https://localhost:8080/",
     "height": 300
    },
    "executionInfo": {
     "elapsed": 1839,
     "status": "ok",
     "timestamp": 1629432432870,
     "user": {
      "displayName": "wopodamphe",
      "photoUrl": "https://lh3.googleusercontent.com/a-/AOh14GhmWX_hHDrRiMqSkG3uw2XrGJEdNQQld0M4ZnuqGQ=s64",
      "userId": "02320459543568134977"
     },
     "user_tz": 240
    },
    "id": "APOfaagXMr7y",
    "outputId": "112da482-e1e9-4248-98c1-710f61b77845"
   },
   "outputs": [],
   "source": [
    "plt.plot(history.history['accuracy'], label='accuracy')\n",
    "plt.plot(history.history['val_accuracy'], label = 'val_accuracy')\n",
    "plt.xlabel('Epoch')\n",
    "plt.ylabel('Accuracy')\n",
    "plt.ylim([0, 1])\n",
    "plt.legend(loc='lower right')\n",
    "\n",
    "test_loss, test_acc = model.evaluate(X_test, y_test, verbose=2)"
   ]
  },
  {
   "cell_type": "code",
   "execution_count": null,
   "metadata": {
    "colab": {
     "base_uri": "https://localhost:8080/"
    },
    "executionInfo": {
     "elapsed": 4120,
     "status": "ok",
     "timestamp": 1629433473952,
     "user": {
      "displayName": "wopodamphe",
      "photoUrl": "https://lh3.googleusercontent.com/a-/AOh14GhmWX_hHDrRiMqSkG3uw2XrGJEdNQQld0M4ZnuqGQ=s64",
      "userId": "02320459543568134977"
     },
     "user_tz": 240
    },
    "id": "7AiR_qUSraSu",
    "outputId": "4a3cc39c-1118-4d28-9feb-631edc54bfc9"
   },
   "outputs": [],
   "source": [
    "\n",
    "model.save('saved_model/my_model')\n",
    "\n"
   ]
  },
  {
   "cell_type": "code",
   "execution_count": null,
   "metadata": {
    "colab": {
     "base_uri": "https://localhost:8080/"
    },
    "executionInfo": {
     "elapsed": 367,
     "status": "ok",
     "timestamp": 1629433479514,
     "user": {
      "displayName": "wopodamphe",
      "photoUrl": "https://lh3.googleusercontent.com/a-/AOh14GhmWX_hHDrRiMqSkG3uw2XrGJEdNQQld0M4ZnuqGQ=s64",
      "userId": "02320459543568134977"
     },
     "user_tz": 240
    },
    "id": "2Lpuv1wKwoHn",
    "outputId": "0d1c143c-442a-4fb6-e02b-c45a94555508"
   },
   "outputs": [],
   "source": []
  }
 ],
 "metadata": {
  "accelerator": "GPU",
  "colab": {
   "authorship_tag": "ABX9TyO/kneyodpsOj3pln9SbhaC",
   "collapsed_sections": [],
   "mount_file_id": "1AMb9472cS72Iff5QZo6ugt4fEwoVZoc8",
   "name": "summer deep learning: convnet",
   "provenance": []
  },
  "kernelspec": {
   "display_name": "Python 3",
   "language": "python",
   "name": "python3"
  },
  "language_info": {
   "codemirror_mode": {
    "name": "ipython",
    "version": 3
   },
   "file_extension": ".py",
   "mimetype": "text/x-python",
   "name": "python",
   "nbconvert_exporter": "python",
   "pygments_lexer": "ipython3",
   "version": "3.8.5"
  }
 },
 "nbformat": 4,
 "nbformat_minor": 1
}
