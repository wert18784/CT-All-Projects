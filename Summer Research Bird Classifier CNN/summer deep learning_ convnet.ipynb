{
 "cells": [
  {
   "cell_type": "code",
   "execution_count": null,
   "metadata": {
    "executionInfo": {
     "elapsed": 128,
     "status": "ok",
     "timestamp": 1629429004952,
     "user": {
      "displayName": "wopodamphe",
      "photoUrl": "https://lh3.googleusercontent.com/a-/AOh14GhmWX_hHDrRiMqSkG3uw2XrGJEdNQQld0M4ZnuqGQ=s64",
      "userId": "02320459543568134977"
     },
     "user_tz": 240
    },
    "id": "-gzIEaJtxuCP"
   },
   "outputs": [],
   "source": []
  },
  {
   "cell_type": "code",
   "execution_count": 1,
   "metadata": {
    "executionInfo": {
     "elapsed": 1762,
     "status": "ok",
     "timestamp": 1629429006915,
     "user": {
      "displayName": "wopodamphe",
      "photoUrl": "https://lh3.googleusercontent.com/a-/AOh14GhmWX_hHDrRiMqSkG3uw2XrGJEdNQQld0M4ZnuqGQ=s64",
      "userId": "02320459543568134977"
     },
     "user_tz": 240
    },
    "id": "pHm51X2DRxIA"
   },
   "outputs": [],
   "source": [
    "import tensorflow as tf\n",
    "from tensorflow.keras import datasets, layers, models, optimizers\n",
    "\n",
    "import numpy as np\n",
    "import matplotlib.pyplot as plt\n",
    "import os\n",
    "import cv2\n",
    "import pickle\n",
    "\n",
    "from sklearn.model_selection import train_test_split\n"
   ]
  },
  {
   "cell_type": "code",
   "execution_count": 2,
   "metadata": {
    "executionInfo": {
     "elapsed": 42695,
     "status": "ok",
     "timestamp": 1629429049608,
     "user": {
      "displayName": "wopodamphe",
      "photoUrl": "https://lh3.googleusercontent.com/a-/AOh14GhmWX_hHDrRiMqSkG3uw2XrGJEdNQQld0M4ZnuqGQ=s64",
      "userId": "02320459543568134977"
     },
     "user_tz": 240
    },
    "id": "GHMq4xmdUgki"
   },
   "outputs": [],
   "source": [
    "\n",
    "pickle_in = open(\"X_large.pickle\",\"rb\")\n",
    "X = pickle.load(pickle_in)\n",
    "\n",
    "\n",
    "pickle_in = open(\"y_large.pickle\",\"rb\")\n",
    "y = pickle.load(pickle_in)\n",
    "\n",
    "\n",
    "# pickle_in = open(\"/content/drive/MyDrive/Pickle Files for Deep learning/X.pickle\",\"rb\")\n",
    "# X = pickle.load(pickle_in)\n",
    "\n",
    "\n",
    "# pickle_in = open(\"/content/drive/MyDrive/Pickle Files for Deep learning/y.pickle\",\"rb\")\n",
    "# y = pickle.load(pickle_in)\n"
   ]
  },
  {
   "cell_type": "code",
   "execution_count": 3,
   "metadata": {
    "executionInfo": {
     "elapsed": 1762,
     "status": "ok",
     "timestamp": 1629429051363,
     "user": {
      "displayName": "wopodamphe",
      "photoUrl": "https://lh3.googleusercontent.com/a-/AOh14GhmWX_hHDrRiMqSkG3uw2XrGJEdNQQld0M4ZnuqGQ=s64",
      "userId": "02320459543568134977"
     },
     "user_tz": 240
    },
    "id": "kMCMf-wpepWX"
   },
   "outputs": [],
   "source": [
    "X_train, X_test, y_train, y_test = train_test_split(np.array(X), y, test_size=0.1, random_state=None)"
   ]
  },
  {
   "cell_type": "code",
   "execution_count": 4,
   "metadata": {
    "executionInfo": {
     "elapsed": 1121,
     "status": "ok",
     "timestamp": 1629429052482,
     "user": {
      "displayName": "wopodamphe",
      "photoUrl": "https://lh3.googleusercontent.com/a-/AOh14GhmWX_hHDrRiMqSkG3uw2XrGJEdNQQld0M4ZnuqGQ=s64",
      "userId": "02320459543568134977"
     },
     "user_tz": 240
    },
    "id": "wiSCfKR4rF6k"
   },
   "outputs": [],
   "source": [
    "model = models.Sequential()\n",
    "\n",
    "model.add(layers.Conv2D(32, (3, 3), activation='relu', input_shape=(75, 75, 3)))\n",
    "model.add(layers.MaxPooling2D((2, 2)))\n",
    "\n",
    "model.add(layers.Conv2D(64, (3, 3), activation='relu', padding='valid'))\n",
    "model.add(layers.MaxPooling2D((2, 2)))\n",
    "\n",
    "\n",
    "model.add(layers.Conv2D(64, (3, 3), activation='relu', padding='valid'))\n",
    "model.add(layers.MaxPooling2D((2, 2)))\n",
    "\n",
    "model.add(layers.Dropout(.5))\n",
    "model.add(layers.Conv2D(64, (3, 3), activation='relu', padding='valid'))\n",
    "\n"
   ]
  },
  {
   "cell_type": "code",
   "execution_count": 5,
   "metadata": {
    "colab": {
     "base_uri": "https://localhost:8080/"
    },
    "executionInfo": {
     "elapsed": 5,
     "status": "ok",
     "timestamp": 1629429052482,
     "user": {
      "displayName": "wopodamphe",
      "photoUrl": "https://lh3.googleusercontent.com/a-/AOh14GhmWX_hHDrRiMqSkG3uw2XrGJEdNQQld0M4ZnuqGQ=s64",
      "userId": "02320459543568134977"
     },
     "user_tz": 240
    },
    "id": "8WRimtctvHqL",
    "outputId": "1f13325c-fe5f-473d-9479-3d56e082828c"
   },
   "outputs": [
    {
     "name": "stdout",
     "output_type": "stream",
     "text": [
      "Model: \"sequential\"\n",
      "_________________________________________________________________\n",
      "Layer (type)                 Output Shape              Param #   \n",
      "=================================================================\n",
      "conv2d (Conv2D)              (None, 73, 73, 32)        896       \n",
      "_________________________________________________________________\n",
      "max_pooling2d (MaxPooling2D) (None, 36, 36, 32)        0         \n",
      "_________________________________________________________________\n",
      "conv2d_1 (Conv2D)            (None, 34, 34, 64)        18496     \n",
      "_________________________________________________________________\n",
      "max_pooling2d_1 (MaxPooling2 (None, 17, 17, 64)        0         \n",
      "_________________________________________________________________\n",
      "conv2d_2 (Conv2D)            (None, 15, 15, 64)        36928     \n",
      "_________________________________________________________________\n",
      "max_pooling2d_2 (MaxPooling2 (None, 7, 7, 64)          0         \n",
      "_________________________________________________________________\n",
      "dropout (Dropout)            (None, 7, 7, 64)          0         \n",
      "_________________________________________________________________\n",
      "conv2d_3 (Conv2D)            (None, 5, 5, 64)          36928     \n",
      "=================================================================\n",
      "Total params: 93,248\n",
      "Trainable params: 93,248\n",
      "Non-trainable params: 0\n",
      "_________________________________________________________________\n"
     ]
    }
   ],
   "source": [
    "model.summary()"
   ]
  },
  {
   "cell_type": "code",
   "execution_count": 6,
   "metadata": {
    "executionInfo": {
     "elapsed": 5,
     "status": "ok",
     "timestamp": 1629429052484,
     "user": {
      "displayName": "wopodamphe",
      "photoUrl": "https://lh3.googleusercontent.com/a-/AOh14GhmWX_hHDrRiMqSkG3uw2XrGJEdNQQld0M4ZnuqGQ=s64",
      "userId": "02320459543568134977"
     },
     "user_tz": 240
    },
    "id": "gz2Un9oovJNk"
   },
   "outputs": [],
   "source": [
    "model.add(layers.Flatten())\n",
    "model.add(layers.Dense(64, activation='relu'))\n",
    "model.add(layers.Dense(20)) #20 for the 20 bird species"
   ]
  },
  {
   "cell_type": "code",
   "execution_count": 7,
   "metadata": {
    "colab": {
     "base_uri": "https://localhost:8080/"
    },
    "executionInfo": {
     "elapsed": 5,
     "status": "ok",
     "timestamp": 1629429052484,
     "user": {
      "displayName": "wopodamphe",
      "photoUrl": "https://lh3.googleusercontent.com/a-/AOh14GhmWX_hHDrRiMqSkG3uw2XrGJEdNQQld0M4ZnuqGQ=s64",
      "userId": "02320459543568134977"
     },
     "user_tz": 240
    },
    "id": "svY8dWArvKuT",
    "outputId": "a0d0b0ab-a4ee-4058-e02b-6ea866064007"
   },
   "outputs": [
    {
     "name": "stdout",
     "output_type": "stream",
     "text": [
      "Model: \"sequential\"\n",
      "_________________________________________________________________\n",
      "Layer (type)                 Output Shape              Param #   \n",
      "=================================================================\n",
      "conv2d (Conv2D)              (None, 73, 73, 32)        896       \n",
      "_________________________________________________________________\n",
      "max_pooling2d (MaxPooling2D) (None, 36, 36, 32)        0         \n",
      "_________________________________________________________________\n",
      "conv2d_1 (Conv2D)            (None, 34, 34, 64)        18496     \n",
      "_________________________________________________________________\n",
      "max_pooling2d_1 (MaxPooling2 (None, 17, 17, 64)        0         \n",
      "_________________________________________________________________\n",
      "conv2d_2 (Conv2D)            (None, 15, 15, 64)        36928     \n",
      "_________________________________________________________________\n",
      "max_pooling2d_2 (MaxPooling2 (None, 7, 7, 64)          0         \n",
      "_________________________________________________________________\n",
      "dropout (Dropout)            (None, 7, 7, 64)          0         \n",
      "_________________________________________________________________\n",
      "conv2d_3 (Conv2D)            (None, 5, 5, 64)          36928     \n",
      "_________________________________________________________________\n",
      "flatten (Flatten)            (None, 1600)              0         \n",
      "_________________________________________________________________\n",
      "dense (Dense)                (None, 64)                102464    \n",
      "_________________________________________________________________\n",
      "dense_1 (Dense)              (None, 20)                1300      \n",
      "=================================================================\n",
      "Total params: 197,012\n",
      "Trainable params: 197,012\n",
      "Non-trainable params: 0\n",
      "_________________________________________________________________\n"
     ]
    }
   ],
   "source": [
    "model.summary()"
   ]
  },
  {
   "cell_type": "code",
   "execution_count": 8,
   "metadata": {
    "colab": {
     "base_uri": "https://localhost:8080/"
    },
    "executionInfo": {
     "elapsed": 1943599,
     "status": "ok",
     "timestamp": 1629430996209,
     "user": {
      "displayName": "wopodamphe",
      "photoUrl": "https://lh3.googleusercontent.com/a-/AOh14GhmWX_hHDrRiMqSkG3uw2XrGJEdNQQld0M4ZnuqGQ=s64",
      "userId": "02320459543568134977"
     },
     "user_tz": 240
    },
    "id": "91XHp-z8vMti",
    "outputId": "b9fa5162-4c75-4a07-a7cb-865e694a5a45"
   },
   "outputs": [
    {
     "name": "stdout",
     "output_type": "stream",
     "text": [
      "Epoch 1/50\n",
      "4403/4403 [==============================] - 198s 45ms/step - loss: 1.6758 - accuracy: 0.4816 - val_loss: 1.0588 - val_accuracy: 0.6734\n",
      "Epoch 2/50\n",
      "4403/4403 [==============================] - 198s 45ms/step - loss: 1.0448 - accuracy: 0.6791 - val_loss: 0.8782 - val_accuracy: 0.7301\n",
      "Epoch 3/50\n",
      "4403/4403 [==============================] - 197s 45ms/step - loss: 0.8860 - accuracy: 0.7306 - val_loss: 0.8713 - val_accuracy: 0.7402\n",
      "Epoch 4/50\n",
      "4403/4403 [==============================] - 192s 44ms/step - loss: 0.7955 - accuracy: 0.7595 - val_loss: 0.7337 - val_accuracy: 0.7783\n",
      "Epoch 5/50\n",
      "4403/4403 [==============================] - 197s 45ms/step - loss: 0.7346 - accuracy: 0.7796 - val_loss: 0.5929 - val_accuracy: 0.8223\n",
      "Epoch 6/50\n",
      "4403/4403 [==============================] - 193s 44ms/step - loss: 0.6965 - accuracy: 0.7934 - val_loss: 0.6206 - val_accuracy: 0.8142\n",
      "Epoch 7/50\n",
      "4403/4403 [==============================] - 198s 45ms/step - loss: 0.6674 - accuracy: 0.8026 - val_loss: 0.5405 - val_accuracy: 0.8376\n",
      "Epoch 8/50\n",
      "4403/4403 [==============================] - 200s 46ms/step - loss: 0.6498 - accuracy: 0.8090 - val_loss: 0.5618 - val_accuracy: 0.8320\n",
      "Epoch 9/50\n",
      "4403/4403 [==============================] - 196s 45ms/step - loss: 0.6268 - accuracy: 0.8152 - val_loss: 0.5918 - val_accuracy: 0.8281\n",
      "Epoch 10/50\n",
      "4403/4403 [==============================] - 191s 43ms/step - loss: 0.6313 - accuracy: 0.8147 - val_loss: 0.4970 - val_accuracy: 0.8577\n",
      "Epoch 11/50\n",
      "4403/4403 [==============================] - 190s 43ms/step - loss: 0.6171 - accuracy: 0.8201 - val_loss: 0.5350 - val_accuracy: 0.8427\n",
      "Epoch 12/50\n",
      "4403/4403 [==============================] - 194s 44ms/step - loss: 0.6243 - accuracy: 0.8202 - val_loss: 0.5178 - val_accuracy: 0.8469\n",
      "Epoch 13/50\n",
      "4403/4403 [==============================] - 198s 45ms/step - loss: 0.6110 - accuracy: 0.8247 - val_loss: 0.4843 - val_accuracy: 0.8625\n",
      "Epoch 14/50\n",
      "4403/4403 [==============================] - 202s 46ms/step - loss: 0.6023 - accuracy: 0.8274 - val_loss: 0.4946 - val_accuracy: 0.8531\n",
      "Epoch 15/50\n",
      "4403/4403 [==============================] - 200s 46ms/step - loss: 0.6063 - accuracy: 0.8278 - val_loss: 0.4456 - val_accuracy: 0.8688\n",
      "Epoch 16/50\n",
      "4403/4403 [==============================] - 199s 45ms/step - loss: 0.6070 - accuracy: 0.8283 - val_loss: 0.4727 - val_accuracy: 0.8662\n",
      "Epoch 17/50\n",
      "4403/4403 [==============================] - 195s 44ms/step - loss: 0.6003 - accuracy: 0.8307 - val_loss: 0.5098 - val_accuracy: 0.8523\n",
      "Epoch 18/50\n",
      "4403/4403 [==============================] - 194s 44ms/step - loss: 0.5875 - accuracy: 0.8340 - val_loss: 0.5859 - val_accuracy: 0.8349\n",
      "Epoch 19/50\n",
      "4403/4403 [==============================] - 195s 44ms/step - loss: 0.5958 - accuracy: 0.8329 - val_loss: 0.5063 - val_accuracy: 0.8565\n",
      "Epoch 20/50\n",
      "4403/4403 [==============================] - 198s 45ms/step - loss: 0.5894 - accuracy: 0.8351 - val_loss: 0.4348 - val_accuracy: 0.8783\n",
      "Epoch 21/50\n",
      "4403/4403 [==============================] - 191s 43ms/step - loss: 0.5846 - accuracy: 0.8365 - val_loss: 0.5414 - val_accuracy: 0.8494\n",
      "Epoch 22/50\n",
      "4403/4403 [==============================] - 189s 43ms/step - loss: 0.5830 - accuracy: 0.8384 - val_loss: 0.4808 - val_accuracy: 0.8627\n",
      "Epoch 23/50\n",
      "4403/4403 [==============================] - 189s 43ms/step - loss: 0.5839 - accuracy: 0.8390 - val_loss: 0.4494 - val_accuracy: 0.8731\n",
      "Epoch 24/50\n",
      "4403/4403 [==============================] - 189s 43ms/step - loss: 0.5937 - accuracy: 0.8367 - val_loss: 0.5520 - val_accuracy: 0.8442\n",
      "Epoch 25/50\n",
      "4403/4403 [==============================] - 189s 43ms/step - loss: 0.5831 - accuracy: 0.8401 - val_loss: 0.4552 - val_accuracy: 0.8714\n",
      "Epoch 26/50\n",
      "4403/4403 [==============================] - 190s 43ms/step - loss: 0.5842 - accuracy: 0.8404 - val_loss: 0.4564 - val_accuracy: 0.8773\n",
      "Epoch 27/50\n",
      "4403/4403 [==============================] - 192s 44ms/step - loss: 0.5828 - accuracy: 0.8416 - val_loss: 0.4396 - val_accuracy: 0.8767\n",
      "Epoch 28/50\n",
      "4403/4403 [==============================] - 194s 44ms/step - loss: 0.5864 - accuracy: 0.8419 - val_loss: 0.4525 - val_accuracy: 0.8801\n",
      "Epoch 29/50\n",
      "4403/4403 [==============================] - 195s 44ms/step - loss: 0.5886 - accuracy: 0.8412 - val_loss: 0.4795 - val_accuracy: 0.8694\n",
      "Epoch 30/50\n",
      "4403/4403 [==============================] - 195s 44ms/step - loss: 0.5744 - accuracy: 0.8456 - val_loss: 0.4514 - val_accuracy: 0.8780\n",
      "Epoch 31/50\n",
      "4403/4403 [==============================] - 194s 44ms/step - loss: 0.5912 - accuracy: 0.8420 - val_loss: 0.5050 - val_accuracy: 0.8614\n",
      "Epoch 32/50\n",
      "4403/4403 [==============================] - 195s 44ms/step - loss: 0.5898 - accuracy: 0.8423 - val_loss: 0.4671 - val_accuracy: 0.8741\n",
      "Epoch 33/50\n",
      "4403/4403 [==============================] - 195s 44ms/step - loss: 0.5857 - accuracy: 0.8456 - val_loss: 0.4989 - val_accuracy: 0.8604\n",
      "Epoch 34/50\n",
      "4403/4403 [==============================] - 194s 44ms/step - loss: 0.5844 - accuracy: 0.8454 - val_loss: 0.4958 - val_accuracy: 0.8685\n",
      "Epoch 35/50\n",
      "4403/4403 [==============================] - 195s 44ms/step - loss: 0.5826 - accuracy: 0.8454 - val_loss: 0.4235 - val_accuracy: 0.8822\n",
      "Epoch 36/50\n",
      "4403/4403 [==============================] - 196s 44ms/step - loss: 0.5808 - accuracy: 0.8471 - val_loss: 0.4782 - val_accuracy: 0.8690\n",
      "Epoch 37/50\n",
      "4403/4403 [==============================] - 195s 44ms/step - loss: 0.5913 - accuracy: 0.8457 - val_loss: 0.4150 - val_accuracy: 0.8869\n",
      "Epoch 38/50\n",
      "4403/4403 [==============================] - 195s 44ms/step - loss: 0.5868 - accuracy: 0.8469 - val_loss: 0.4234 - val_accuracy: 0.8855\n",
      "Epoch 39/50\n",
      "4403/4403 [==============================] - 195s 44ms/step - loss: 0.5786 - accuracy: 0.8491 - val_loss: 0.4870 - val_accuracy: 0.8674\n",
      "Epoch 40/50\n",
      "4403/4403 [==============================] - 196s 45ms/step - loss: 0.6008 - accuracy: 0.8457 - val_loss: 0.4334 - val_accuracy: 0.8855\n",
      "Epoch 41/50\n",
      "4403/4403 [==============================] - 195s 44ms/step - loss: 0.5635 - accuracy: 0.8539 - val_loss: 0.5692 - val_accuracy: 0.8565\n",
      "Epoch 42/50\n",
      "4403/4403 [==============================] - 201s 46ms/step - loss: 0.5754 - accuracy: 0.8516 - val_loss: 0.4464 - val_accuracy: 0.8793\n",
      "Epoch 43/50\n",
      "4403/4403 [==============================] - 203s 46ms/step - loss: 0.5782 - accuracy: 0.8529 - val_loss: 0.4683 - val_accuracy: 0.8768\n",
      "Epoch 44/50\n",
      "4403/4403 [==============================] - 194s 44ms/step - loss: 0.5762 - accuracy: 0.8524 - val_loss: 0.4568 - val_accuracy: 0.8807\n",
      "Epoch 45/50\n",
      "4403/4403 [==============================] - 201s 46ms/step - loss: 0.5906 - accuracy: 0.8507 - val_loss: 0.4440 - val_accuracy: 0.8811\n",
      "Epoch 46/50\n",
      "4403/4403 [==============================] - 191s 43ms/step - loss: 0.5813 - accuracy: 0.8522 - val_loss: 0.4702 - val_accuracy: 0.8768\n",
      "Epoch 47/50\n",
      "4403/4403 [==============================] - 203s 46ms/step - loss: 0.5728 - accuracy: 0.8559 - val_loss: 0.4530 - val_accuracy: 0.8812\n",
      "Epoch 48/50\n",
      "4403/4403 [==============================] - 204s 46ms/step - loss: 0.5837 - accuracy: 0.8534 - val_loss: 0.5660 - val_accuracy: 0.8554\n",
      "Epoch 49/50\n",
      "4403/4403 [==============================] - 201s 46ms/step - loss: 0.5987 - accuracy: 0.8509 - val_loss: 0.4201 - val_accuracy: 0.8918\n",
      "Epoch 50/50\n",
      "4403/4403 [==============================] - 192s 44ms/step - loss: 0.5975 - accuracy: 0.8521 - val_loss: 0.4826 - val_accuracy: 0.8775\n"
     ]
    }
   ],
   "source": [
    "y_train = np.array(y_train)\n",
    "y_test = np.array(y_test)\n",
    "\n",
    "model.compile(optimizer=tf.keras.optimizers.Adam(learning_rate=0.001),\n",
    "              loss=tf.keras.losses.SparseCategoricalCrossentropy(from_logits=True),\n",
    "              metrics=['accuracy'])\n",
    "\n",
    "history = model.fit(X_train, y_train, epochs=50, validation_data=(X_test, y_test))"
   ]
  },
  {
   "cell_type": "code",
   "execution_count": 9,
   "metadata": {
    "colab": {
     "base_uri": "https://localhost:8080/"
    },
    "executionInfo": {
     "elapsed": 1739,
     "status": "ok",
     "timestamp": 1629432429330,
     "user": {
      "displayName": "wopodamphe",
      "photoUrl": "https://lh3.googleusercontent.com/a-/AOh14GhmWX_hHDrRiMqSkG3uw2XrGJEdNQQld0M4ZnuqGQ=s64",
      "userId": "02320459543568134977"
     },
     "user_tz": 240
    },
    "id": "jGI8rEiBvOH7",
    "outputId": "9d7fd136-b59e-4b58-d10c-d6224ec1486a"
   },
   "outputs": [
    {
     "name": "stdout",
     "output_type": "stream",
     "text": [
      "490/490 - 5s - loss: 0.4826 - accuracy: 0.8775\n",
      "0.8774675726890564\n"
     ]
    }
   ],
   "source": [
    "test_loss, test_acc = model.evaluate(X_test, y_test, verbose=2)\n",
    "print(test_acc)"
   ]
  },
  {
   "cell_type": "code",
   "execution_count": 10,
   "metadata": {
    "colab": {
     "base_uri": "https://localhost:8080/",
     "height": 300
    },
    "executionInfo": {
     "elapsed": 1839,
     "status": "ok",
     "timestamp": 1629432432870,
     "user": {
      "displayName": "wopodamphe",
      "photoUrl": "https://lh3.googleusercontent.com/a-/AOh14GhmWX_hHDrRiMqSkG3uw2XrGJEdNQQld0M4ZnuqGQ=s64",
      "userId": "02320459543568134977"
     },
     "user_tz": 240
    },
    "id": "APOfaagXMr7y",
    "outputId": "112da482-e1e9-4248-98c1-710f61b77845"
   },
   "outputs": [
    {
     "name": "stdout",
     "output_type": "stream",
     "text": [
      "490/490 - 5s - loss: 0.4826 - accuracy: 0.8775\n"
     ]
    },
    {
     "data": {
      "image/png": "[encoded data removed]",
      "text/plain": [
       "<Figure size 432x288 with 1 Axes>"
      ]
     },
     "metadata": {
      "needs_background": "light"
     },
     "output_type": "display_data"
    }
   ],
   "source": [
    "plt.plot(history.history['accuracy'], label='accuracy')\n",
    "plt.plot(history.history['val_accuracy'], label = 'val_accuracy')\n",
    "plt.xlabel('Epoch')\n",
    "plt.ylabel('Accuracy')\n",
    "plt.ylim([0, 1])\n",
    "plt.legend(loc='lower right')\n",
    "\n",
    "test_loss, test_acc = model.evaluate(X_test, y_test, verbose=2)"
   ]
  },
  {
   "cell_type": "code",
   "execution_count": 11,
   "metadata": {
    "colab": {
     "base_uri": "https://localhost:8080/"
    },
    "executionInfo": {
     "elapsed": 4120,
     "status": "ok",
     "timestamp": 1629433473952,
     "user": {
      "displayName": "wopodamphe",
      "photoUrl": "https://lh3.googleusercontent.com/a-/AOh14GhmWX_hHDrRiMqSkG3uw2XrGJEdNQQld0M4ZnuqGQ=s64",
      "userId": "02320459543568134977"
     },
     "user_tz": 240
    },
    "id": "7AiR_qUSraSu",
    "outputId": "4a3cc39c-1118-4d28-9feb-631edc54bfc9"
   },
   "outputs": [
    {
     "name": "stdout",
     "output_type": "stream",
     "text": [
      "INFO:tensorflow:Assets written to: saved_model/my_model\\assets\n"
     ]
    }
   ],
   "source": [
    "\n",
    "model.save('saved_model/my_model')\n",
    "\n"
   ]
  },
  {
   "cell_type": "code",
   "execution_count": null,
   "metadata": {
    "colab": {
     "base_uri": "https://localhost:8080/"
    },
    "executionInfo": {
     "elapsed": 367,
     "status": "ok",
     "timestamp": 1629433479514,
     "user": {
      "displayName": "wopodamphe",
      "photoUrl": "https://lh3.googleusercontent.com/a-/AOh14GhmWX_hHDrRiMqSkG3uw2XrGJEdNQQld0M4ZnuqGQ=s64",
      "userId": "02320459543568134977"
     },
     "user_tz": 240
    },
    "id": "2Lpuv1wKwoHn",
    "outputId": "0d1c143c-442a-4fb6-e02b-c45a94555508"
   },
   "outputs": [],
   "source": []
  }
 ],
 "metadata": {
  "accelerator": "GPU",
  "colab": {
   "authorship_tag": "ABX9TyO/kneyodpsOj3pln9SbhaC",
   "collapsed_sections": [],
   "mount_file_id": "1AMb9472cS72Iff5QZo6ugt4fEwoVZoc8",
   "name": "summer deep learning: convnet",
   "provenance": []
  },
  "kernelspec": {
   "display_name": "Python 3",
   "language": "python",
   "name": "python3"
  },
  "language_info": {
   "codemirror_mode": {
    "name": "ipython",
    "version": 3
   },
   "file_extension": ".py",
   "mimetype": "text/x-python",
   "name": "python",
   "nbconvert_exporter": "python",
   "pygments_lexer": "ipython3",
   "version": "3.8.5"
  }
 },
 "nbformat": 4,
 "nbformat_minor": 1
}
